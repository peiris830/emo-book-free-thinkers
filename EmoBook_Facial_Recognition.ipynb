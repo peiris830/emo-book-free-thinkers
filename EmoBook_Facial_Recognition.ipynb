{
  "nbformat": 4,
  "nbformat_minor": 0,
  "metadata": {
    "colab": {
      "provenance": [],
      "mount_file_id": "1SX9KBGuGnxmaWkg6XhsbxiC85D-TVZUi",
      "authorship_tag": "ABX9TyMoKpkg8/8WHW37n8HenKOU",
      "include_colab_link": true
    },
    "kernelspec": {
      "name": "python3",
      "display_name": "Python 3"
    },
    "language_info": {
      "name": "python"
    }
  },
  "cells": [
    {
      "cell_type": "markdown",
      "metadata": {
        "id": "view-in-github",
        "colab_type": "text"
      },
      "source": [
        "<a href=\"https://colab.research.google.com/github/peiris830/emo-book-free-thinkers/blob/master/EmoBook_Facial_Recognition.ipynb\" target=\"_parent\"><img src=\"https://colab.research.google.com/assets/colab-badge.svg\" alt=\"Open In Colab\"/></a>"
      ]
    },
    {
      "cell_type": "code",
      "source": [
        "from google.colab import drive\n",
        "drive.mount('/content/drive')"
      ],
      "metadata": {
        "id": "DauztDFa1hBa",
        "colab": {
          "base_uri": "https://localhost:8080/"
        },
        "outputId": "454cdb36-0f1e-4fe9-d9f3-25fb4b2c85e6"
      },
      "execution_count": null,
      "outputs": [
        {
          "output_type": "stream",
          "name": "stdout",
          "text": [
            "Drive already mounted at /content/drive; to attempt to forcibly remount, call drive.mount(\"/content/drive\", force_remount=True).\n"
          ]
        }
      ]
    },
    {
      "cell_type": "code",
      "source": [
        "import os\n",
        "\n",
        "dataset_path = '/content/drive/MyDrive/emotion-data-set'\n",
        "\n",
        "train_emotions = os.listdir(dataset_path + '/train')\n",
        "print(train_emotions)"
      ],
      "metadata": {
        "id": "QGKsOdmkpGwi",
        "colab": {
          "base_uri": "https://localhost:8080/"
        },
        "outputId": "7a1e6fd5-2900-40ec-83f2-d1821911e44c"
      },
      "execution_count": null,
      "outputs": [
        {
          "output_type": "stream",
          "name": "stdout",
          "text": [
            "['angry', 'fear', 'disgust', 'happy', 'sad', 'neutral', 'surprise']\n"
          ]
        }
      ]
    },
    {
      "cell_type": "code",
      "source": [
        "from PIL import Image\n",
        "\n"
      ],
      "metadata": {
        "id": "Ek8Vw0fFW3Cn"
      },
      "execution_count": null,
      "outputs": []
    }
  ]
}